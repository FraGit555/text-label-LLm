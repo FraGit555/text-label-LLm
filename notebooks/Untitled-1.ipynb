{
 "cells": [
  {
   "cell_type": "code",
   "execution_count": 2,
   "id": "dec116b8",
   "metadata": {},
   "outputs": [
    {
     "name": "stdout",
     "output_type": "stream",
     "text": [
      "hello noteb\n"
     ]
    }
   ],
   "source": [
    "print('hello noteb')"
   ]
  },
  {
   "cell_type": "code",
   "execution_count": null,
   "id": "7c46b89f",
   "metadata": {},
   "outputs": [
    {
     "name": "stderr",
     "output_type": "stream",
     "text": [
      "Generating train split: 100%|██████████| 120000/120000 [00:00<00:00, 2722454.40 examples/s]\n",
      "Generating test split: 100%|██████████| 7600/7600 [00:00<00:00, 2651972.58 examples/s]\n"
     ]
    },
    {
     "data": {
      "text/plain": [
       "DatasetDict({\n",
       "    train: Dataset({\n",
       "        features: ['text', 'label'],\n",
       "        num_rows: 120000\n",
       "    })\n",
       "    test: Dataset({\n",
       "        features: ['text', 'label'],\n",
       "        num_rows: 7600\n",
       "    })\n",
       "})"
      ]
     },
     "execution_count": 5,
     "metadata": {},
     "output_type": "execute_result"
    }
   ],
   "source": [
    "from datasets import load_dataset\n",
    "\n",
    "ds_news_raw = load_dataset('ag_news')"
   ]
  },
  {
   "cell_type": "code",
   "execution_count": 41,
   "id": "78065aae",
   "metadata": {},
   "outputs": [
    {
     "name": "stdout",
     "output_type": "stream",
     "text": [
      "True\n"
     ]
    },
    {
     "data": {
      "text/plain": [
       "DatasetDict({\n",
       "    train: Dataset({\n",
       "        features: ['text', 'label'],\n",
       "        num_rows: 120000\n",
       "    })\n",
       "    test: Dataset({\n",
       "        features: ['text', 'label'],\n",
       "        num_rows: 7600\n",
       "    })\n",
       "})"
      ]
     },
     "execution_count": 41,
     "metadata": {},
     "output_type": "execute_result"
    }
   ],
   "source": [
    "print( isinstance(ds_news_raw, dict) )\n",
    "ds_news_raw\n"
   ]
  },
  {
   "cell_type": "code",
   "execution_count": 9,
   "id": "33aede6c",
   "metadata": {},
   "outputs": [
    {
     "data": {
      "text/plain": [
       "Dataset({\n",
       "    features: ['text', 'label'],\n",
       "    num_rows: 120000\n",
       "})"
      ]
     },
     "execution_count": 9,
     "metadata": {},
     "output_type": "execute_result"
    }
   ],
   "source": [
    "ds_news_raw['train'] "
   ]
  },
  {
   "cell_type": "code",
   "execution_count": 42,
   "id": "aee5b75b",
   "metadata": {},
   "outputs": [],
   "source": [
    "persona = {\n",
    "    \"nome\": \"Francesco\",\n",
    "    \"eta\": 30,\n",
    "    \"citta\": \"Roma\"\n",
    "}"
   ]
  },
  {
   "cell_type": "code",
   "execution_count": null,
   "id": "3e487ad2",
   "metadata": {},
   "outputs": [
    {
     "name": "stdout",
     "output_type": "stream",
     "text": [
      "nome --->  Francesco\n",
      "\n",
      "eta --->  30\n",
      "\n",
      "citta --->  Roma\n",
      "\n"
     ]
    }
   ],
   "source": [
    "#print( persona['nome'])\n",
    "for key,value in persona.items():\n",
    "    print(key, \"---> \",value)\n",
    "    print('')"
   ]
  },
  {
   "cell_type": "code",
   "execution_count": 39,
   "id": "58cf1ecc",
   "metadata": {},
   "outputs": [
    {
     "name": "stdout",
     "output_type": "stream",
     "text": [
      "<class 'datasets.arrow_dataset.Dataset'>\n"
     ]
    },
    {
     "data": {
      "text/plain": [
       "Dataset({\n",
       "    features: ['text', 'label'],\n",
       "    num_rows: 120000\n",
       "})"
      ]
     },
     "execution_count": 39,
     "metadata": {},
     "output_type": "execute_result"
    }
   ],
   "source": [
    "print( type(ds_news_raw['train']) )\n",
    "ds_news_raw['train']\n"
   ]
  },
  {
   "cell_type": "code",
   "execution_count": 56,
   "id": "eafaf1ec",
   "metadata": {},
   "outputs": [
    {
     "name": "stdout",
     "output_type": "stream",
     "text": [
      "Dataset({\n",
      "    features: ['text', 'label'],\n",
      "    num_rows: 120000\n",
      "})\n"
     ]
    },
    {
     "data": {
      "text/plain": [
       "120000"
      ]
     },
     "execution_count": 56,
     "metadata": {},
     "output_type": "execute_result"
    }
   ],
   "source": [
    "print(ds_news_raw['train'])\n",
    "len(ds_news_raw['train'])"
   ]
  },
  {
   "cell_type": "code",
   "execution_count": null,
   "id": "7b79c899",
   "metadata": {},
   "outputs": [
    {
     "name": "stdout",
     "output_type": "stream",
     "text": [
      "ClassLabel(names=['World', 'Sports', 'Business', 'Sci/Tech'], id=None)\n"
     ]
    }
   ],
   "source": [
    "# Nomi delle label\n",
    "print( ds_news_raw[\"train\"].features[\"label\"] )\n"
   ]
  },
  {
   "cell_type": "code",
   "execution_count": 116,
   "id": "a4efaa78",
   "metadata": {},
   "outputs": [
    {
     "name": "stdout",
     "output_type": "stream",
     "text": [
      "{0: 'World', 1: 'Sports', 2: 'Business', 3: 'Sci/Tech'}\n"
     ]
    },
    {
     "data": {
      "text/plain": [
       "'Business'"
      ]
     },
     "execution_count": 116,
     "metadata": {},
     "output_type": "execute_result"
    }
   ],
   "source": [
    "# keep a dictionary for conversion\n",
    "LABEL_MAP = { 0: \"World\",\n",
    "             1: \"Sports\",\n",
    "             2: \"Business\",\n",
    "             3: \"Sci/Tech\"\n",
    "}\n",
    "print(LABEL_MAP)\n",
    "LABEL_MAP[2]\n"
   ]
  },
  {
   "cell_type": "code",
   "execution_count": 138,
   "id": "6e254bd8",
   "metadata": {},
   "outputs": [
    {
     "data": {
      "text/plain": [
       "['World', 'Sports', 'Business', 'Sci/Tech']"
      ]
     },
     "execution_count": 138,
     "metadata": {},
     "output_type": "execute_result"
    }
   ],
   "source": [
    "label_texts = [LABEL_MAP[i] for i in sorted(LABEL_MAP)]\n",
    "label_texts"
   ]
  },
  {
   "cell_type": "code",
   "execution_count": 35,
   "id": "a2e55575",
   "metadata": {},
   "outputs": [
    {
     "data": {
      "text/html": [
       "<div>\n",
       "<style scoped>\n",
       "    .dataframe tbody tr th:only-of-type {\n",
       "        vertical-align: middle;\n",
       "    }\n",
       "\n",
       "    .dataframe tbody tr th {\n",
       "        vertical-align: top;\n",
       "    }\n",
       "\n",
       "    .dataframe thead th {\n",
       "        text-align: right;\n",
       "    }\n",
       "</style>\n",
       "<table border=\"1\" class=\"dataframe\">\n",
       "  <thead>\n",
       "    <tr style=\"text-align: right;\">\n",
       "      <th></th>\n",
       "      <th>Name</th>\n",
       "      <th>Age</th>\n",
       "      <th>City</th>\n",
       "    </tr>\n",
       "  </thead>\n",
       "  <tbody>\n",
       "    <tr>\n",
       "      <th>0</th>\n",
       "      <td>Alice</td>\n",
       "      <td>25</td>\n",
       "      <td>New York</td>\n",
       "    </tr>\n",
       "    <tr>\n",
       "      <th>1</th>\n",
       "      <td>Bob</td>\n",
       "      <td>30</td>\n",
       "      <td>Paris</td>\n",
       "    </tr>\n",
       "    <tr>\n",
       "      <th>2</th>\n",
       "      <td>Charlie</td>\n",
       "      <td>35</td>\n",
       "      <td>London</td>\n",
       "    </tr>\n",
       "  </tbody>\n",
       "</table>\n",
       "</div>"
      ],
      "text/plain": [
       "      Name  Age      City\n",
       "0    Alice   25  New York\n",
       "1      Bob   30     Paris\n",
       "2  Charlie   35    London"
      ]
     },
     "execution_count": 35,
     "metadata": {},
     "output_type": "execute_result"
    }
   ],
   "source": [
    "import pandas as pd\n",
    "df = pd.DataFrame({\n",
    "    'Name': ['Alice', 'Bob', 'Charlie'],\n",
    "    'Age': [25, 30, 35],\n",
    "    'City': ['New York', 'Paris', 'London']\n",
    "})\n",
    "df"
   ]
  },
  {
   "cell_type": "code",
   "execution_count": 73,
   "id": "d05c9b21",
   "metadata": {},
   "outputs": [
    {
     "data": {
      "text/html": [
       "<div>\n",
       "<style scoped>\n",
       "    .dataframe tbody tr th:only-of-type {\n",
       "        vertical-align: middle;\n",
       "    }\n",
       "\n",
       "    .dataframe tbody tr th {\n",
       "        vertical-align: top;\n",
       "    }\n",
       "\n",
       "    .dataframe thead th {\n",
       "        text-align: right;\n",
       "    }\n",
       "</style>\n",
       "<table border=\"1\" class=\"dataframe\">\n",
       "  <thead>\n",
       "    <tr style=\"text-align: right;\">\n",
       "      <th></th>\n",
       "      <th>text</th>\n",
       "      <th>label</th>\n",
       "    </tr>\n",
       "  </thead>\n",
       "  <tbody>\n",
       "    <tr>\n",
       "      <th>0</th>\n",
       "      <td>Wall St. Bears Claw Back Into the Black (Reute...</td>\n",
       "      <td>2</td>\n",
       "    </tr>\n",
       "    <tr>\n",
       "      <th>1</th>\n",
       "      <td>Carlyle Looks Toward Commercial Aerospace (Reu...</td>\n",
       "      <td>2</td>\n",
       "    </tr>\n",
       "    <tr>\n",
       "      <th>2</th>\n",
       "      <td>Oil and Economy Cloud Stocks' Outlook (Reuters...</td>\n",
       "      <td>2</td>\n",
       "    </tr>\n",
       "    <tr>\n",
       "      <th>3</th>\n",
       "      <td>Iraq Halts Oil Exports from Main Southern Pipe...</td>\n",
       "      <td>2</td>\n",
       "    </tr>\n",
       "    <tr>\n",
       "      <th>4</th>\n",
       "      <td>Oil prices soar to all-time record, posing new...</td>\n",
       "      <td>2</td>\n",
       "    </tr>\n",
       "  </tbody>\n",
       "</table>\n",
       "</div>"
      ],
      "text/plain": [
       "                                                text  label\n",
       "0  Wall St. Bears Claw Back Into the Black (Reute...      2\n",
       "1  Carlyle Looks Toward Commercial Aerospace (Reu...      2\n",
       "2  Oil and Economy Cloud Stocks' Outlook (Reuters...      2\n",
       "3  Iraq Halts Oil Exports from Main Southern Pipe...      2\n",
       "4  Oil prices soar to all-time record, posing new...      2"
      ]
     },
     "execution_count": 73,
     "metadata": {},
     "output_type": "execute_result"
    }
   ],
   "source": [
    "df_news_train= ds_news_raw['train'].to_pandas()\n",
    "df_news_train.head()"
   ]
  },
  {
   "cell_type": "code",
   "execution_count": 90,
   "id": "63f0dace",
   "metadata": {},
   "outputs": [
    {
     "data": {
      "text/plain": [
       "np.int8(2)"
      ]
     },
     "execution_count": 90,
     "metadata": {},
     "output_type": "execute_result"
    }
   ],
   "source": [
    "df_news_train['label'] = df_news_train['label'].astype('int8')\n",
    "df_news_train['label'].iloc[1]"
   ]
  },
  {
   "cell_type": "code",
   "execution_count": 72,
   "id": "a2ba925e",
   "metadata": {},
   "outputs": [
    {
     "name": "stdout",
     "output_type": "stream",
     "text": [
      "                                                text  label\n",
      "0  Wall St. Bears Claw Back Into the Black (Reute...      2\n",
      "1  Carlyle Looks Toward Commercial Aerospace (Reu...      2\n",
      "2  Oil and Economy Cloud Stocks' Outlook (Reuters...      2\n",
      "3  Iraq Halts Oil Exports from Main Southern Pipe...      2\n",
      "4  Oil prices soar to all-time record, posing new...      2\n"
     ]
    }
   ],
   "source": [
    "print( df_news_train.head() )"
   ]
  },
  {
   "cell_type": "code",
   "execution_count": 91,
   "id": "4ad8bb68",
   "metadata": {},
   "outputs": [
    {
     "data": {
      "text/plain": [
       "'Carlyle Looks Toward Commercial Aerospace (Reuters) Reuters - Private investment firm Carlyle Group,\\\\which has a reputation for making well-timed and occasionally\\\\controversial plays in the defense industry, has quietly placed\\\\its bets on another part of the market.'"
      ]
     },
     "execution_count": 91,
     "metadata": {},
     "output_type": "execute_result"
    }
   ],
   "source": [
    "df_news_train['text'].iloc[1]"
   ]
  },
  {
   "cell_type": "code",
   "execution_count": 95,
   "id": "36bb1640",
   "metadata": {},
   "outputs": [
    {
     "name": "stdout",
     "output_type": "stream",
     "text": [
      "Carlyle Looks Toward Commercial Aerospace (Reuters) Reuters - Private investment firm Carlyle Group,\\which has a reputation for making well-timed and occasionally\\controversial plays in the defense industry, has quietly placed\\its bets on another part of the market.\n"
     ]
    }
   ],
   "source": [
    "print( df_news_train['text'].iloc[1] )"
   ]
  },
  {
   "cell_type": "code",
   "execution_count": 121,
   "id": "fe188400",
   "metadata": {},
   "outputs": [
    {
     "name": "stdout",
     "output_type": "stream",
     "text": [
      "Carlyle Looks Toward Commercial Aerospace (Reuters) Reuters - Private investment\n",
      "firm Carlyle Group,\\which has a reputation for making well-timed and\n",
      "occasionally\\controversial plays in the defense industry, has quietly placed\\its\n",
      "bets on another part of the market.\n",
      "--label--->  2 Business\n"
     ]
    }
   ],
   "source": [
    "import textwrap\n",
    "wrapped = textwrap.fill(df_news_train['text'].iloc[1], width=80)\n",
    "print(wrapped)\n",
    "\n",
    "print( '--label---> ' ,df_news_train['label'].iloc[1], LABEL_MAP[df_news_train['label'].iloc[1]]  )"
   ]
  },
  {
   "cell_type": "code",
   "execution_count": 136,
   "id": "bca15401",
   "metadata": {},
   "outputs": [
    {
     "name": "stdout",
     "output_type": "stream",
     "text": [
      "'Madden,' 'ESPN' Football Score in Different Ways (Reuters) Reuters - Was\n",
      "absenteeism a little high\\on Tuesday among the guys at the office? EA Sports\n",
      "would like\\to think it was because \"Madden NFL 2005\" came out that day,\\and some\n",
      "fans of the football simulation are rabid enough to\\take a sick day to play it.\n",
      "--label--->  3 Sci/Tech\n"
     ]
    }
   ],
   "source": [
    "row_num= 78\n",
    "wrapped = textwrap.fill(df_news_train['text'].iloc[row_num], width=80)\n",
    "print(wrapped)\n",
    "print( '--label---> ' ,df_news_train['label'].iloc[row_num], LABEL_MAP[df_news_train['label'].iloc[row_num]]  )"
   ]
  },
  {
   "cell_type": "code",
   "execution_count": 139,
   "id": "03f55d89",
   "metadata": {},
   "outputs": [
    {
     "data": {
      "text/plain": [
       "['World', 'Sports', 'Business', 'Sci/Tech']"
      ]
     },
     "execution_count": 139,
     "metadata": {},
     "output_type": "execute_result"
    }
   ],
   "source": [
    "label_texts"
   ]
  },
  {
   "cell_type": "code",
   "execution_count": null,
   "id": "fe2513eb",
   "metadata": {},
   "outputs": [],
   "source": [
    "### Ora Embedding dei testi e delle etichette\n",
    "### Fare io \n",
    "### vedere come ha fatto Fo\n",
    "### vedere come fa Chat \n",
    "# ( ok ho preso dataset[\"train\"] e trasformato in un pandas dataframe, cosi per comodità,\n",
    "# ora ho colonne con testo e colonna con label relativa,\n",
    "# adesso per continuare a imparare quello che volevo imparare \n",
    "# cosa dovrei fare ?)\n"
   ]
  }
 ],
 "metadata": {
  "kernelspec": {
   "display_name": ".venv",
   "language": "python",
   "name": "python3"
  },
  "language_info": {
   "codemirror_mode": {
    "name": "ipython",
    "version": 3
   },
   "file_extension": ".py",
   "mimetype": "text/x-python",
   "name": "python",
   "nbconvert_exporter": "python",
   "pygments_lexer": "ipython3",
   "version": "3.9.6"
  }
 },
 "nbformat": 4,
 "nbformat_minor": 5
}
